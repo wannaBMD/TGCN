{
 "cells": [
  {
   "cell_type": "code",
   "execution_count": 1,
   "id": "8dfca553-9f5d-4db8-9860-0d42d668c898",
   "metadata": {},
   "outputs": [],
   "source": [
    "import numpy as np\n",
    "import pandas as pd\n",
    "import torch"
   ]
  },
  {
   "cell_type": "code",
   "execution_count": null,
   "id": "53a5235a-f83b-4613-b083-7cc1f7526660",
   "metadata": {},
   "outputs": [],
   "source": [
    "#load biological feature matrix\n",
    "gene_features = pd.read_table('../data/pan/string_850/mut_features_miRNA_sub_du_2.0.txt', index_col=0, header =0, sep=\"\\t\")\n",
    "datax =  torch.tensor(data=gene_features.values)\n",
    "print(datax.shape)\n",
    "print(datax.device)"
   ]
  },
  {
   "cell_type": "code",
   "execution_count": null,
   "id": "fa9ffa06-9b4e-4962-813a-b5cd9c901ea7",
   "metadata": {},
   "outputs": [],
   "source": [
    "#construct multivariate feature matrix in PPI\n",
    "datas = torch.load(\"../data/pan/string_850/mut_str_features_16_0.0001_2.0.pkl\").cpu()\n",
    "print(datas.shape)\n",
    "print(datas.device)\n",
    "data = torch.cat([datax,datas],1)\n",
    "print(data.shape)\n",
    "print(data.device)\n",
    "torch.save(data,'../data/pan/string_850/data_67_0.0001_2.0.pkl')"
   ]
  },
  {
   "cell_type": "code",
   "execution_count": null,
   "id": "a9616606-1699-4c47-8c08-f9a3c3a73966",
   "metadata": {},
   "outputs": [],
   "source": [
    "#construct multivariate feature matrix in gene semantic similarity network\n",
    "datap = torch.load(\"../data/pan/string_850/mut_str_features_16_0.0001_go_2.0.pkl\").cpu()\n",
    "print(datap.shape)\n",
    "print(datap.device)\n",
    "data2 = torch.cat([datax,datap],1)\n",
    "print(data2.shape)\n",
    "print(data2.device)\n",
    "torch.save(data2,'../data/pan/string_850/data_67_0.0001_go_2.0.pkl')"
   ]
  },
  {
   "cell_type": "code",
   "execution_count": null,
   "id": "f9dde60d-a345-48db-a9ae-c9a9ea03e3d2",
   "metadata": {},
   "outputs": [],
   "source": [
    "#construct multivariate feature matrix in gene pathway co-occurrence network\n",
    "dataq = torch.load(\"../data/pan/string_850/mut_str_features_16_0.0001_path_2.0.pkl\").cpu()\n",
    "print(dataq.shape)\n",
    "print(dataq.device)\n",
    "data3 = torch.cat([datax,dataq],1)\n",
    "print(data3.shape)\n",
    "print(data3.device)\n",
    "torch.save(data3,'../data/pan/string_850/data_67_0.0001_path_2.0.pkl')"
   ]
  }
 ],
 "metadata": {
  "kernelspec": {
   "display_name": "myapp",
   "language": "python",
   "name": "myapp"
  },
  "language_info": {
   "codemirror_mode": {
    "name": "ipython",
    "version": 3
   },
   "file_extension": ".py",
   "mimetype": "text/x-python",
   "name": "python",
   "nbconvert_exporter": "python",
   "pygments_lexer": "ipython3",
   "version": "3.8.19"
  }
 },
 "nbformat": 4,
 "nbformat_minor": 5
}
