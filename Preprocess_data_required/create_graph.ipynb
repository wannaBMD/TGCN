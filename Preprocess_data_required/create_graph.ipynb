{
 "cells": [
  {
   "cell_type": "code",
   "execution_count": null,
   "id": "8f37e955-5b99-45b5-a4dd-b0d1cefecc23",
   "metadata": {},
   "outputs": [],
   "source": [
    "import numpy as np\n",
    "import pandas as pd\n",
    "import torch\n",
    "from torch_geometric.nn import Node2Vec\n",
    "from torch_geometric.data import Data\n",
    "import networkx as nx\n",
    "from torch_geometric.utils import from_networkx\n",
    "import warnings\n",
    "warnings.filterwarnings(\"ignore\")"
   ]
  },
  {
   "cell_type": "code",
   "execution_count": 2,
   "id": "4c483de9-2deb-4778-8d04-7631c291aebf",
   "metadata": {},
   "outputs": [],
   "source": [
    "device = torch.device(\"cuda\" if torch.cuda.is_available() else \"cpu\")"
   ]
  },
  {
   "cell_type": "code",
   "execution_count": 3,
   "id": "a7063fbf-7f2b-48c7-ba30-f45a1bc72ce6",
   "metadata": {},
   "outputs": [],
   "source": [
    "#load PPI network\n",
    "def load_network(file_path):\n",
    "    ppi = pd.read_table(filepath_or_buffer=file_path, header=None, index_col=None, names=['source', 'target'], dtype='str', sep='\\t')\n",
    "    ppi_nodes = pd.concat([ppi['source'], ppi['target']], ignore_index=True)\n",
    "    ppi_nodes = pd.DataFrame(ppi_nodes, columns=['nodes']).drop_duplicates()\n",
    "    ppi_nodes.reset_index(drop=True, inplace=True)\n",
    "    return ppi,ppi_nodes"
   ]
  },
  {
   "cell_type": "code",
   "execution_count": 4,
   "id": "a960c9f6-b283-4fe5-88a2-39c60bcebb90",
   "metadata": {
    "tags": []
   },
   "outputs": [],
   "source": [
    "#load gene association network\n",
    "def load_featured_graph(network):\n",
    "    \n",
    "    G = nx.from_pandas_adjacency(network)\n",
    "\n",
    "    G_adj = nx.convert_node_labels_to_integers(G, ordering='sorted', label_attribute='label')\n",
    "\n",
    "    print(f'If the graph is connected graph: {nx.is_connected(G_adj)}')\n",
    "    print(f'The number of connected components: {nx.number_connected_components(G_adj)}')\n",
    "\n",
    "    graph = from_networkx(G_adj)\n",
    "    assert graph.is_undirected() == True\n",
    "    print(f'The edge index is {graph.edge_index}')\n",
    "\n",
    "    return graph"
   ]
  },
  {
   "cell_type": "code",
   "execution_count": 5,
   "id": "f3c2325f-172b-43cd-8466-79a1a34ed843",
   "metadata": {},
   "outputs": [],
   "source": [
    "#create gene dataset and multi-dimensional gene association network\n",
    "def create_dataset():\n",
    "    #load feature matrix\n",
    "    df = pd.read_table('../data/pan/string_850/mut_features_miRNA_sub_du_2.0.txt', index_col=0, header =0, sep=\"\\t\")\n",
    "    gene_index = list(df.index.values)\n",
    "    features = torch.tensor(np.array(df)).to(torch.float32)\n",
    "    print(features)\n",
    "    ppi, ppi_nodes = load_network('../data/pan/string_850/mut_PPI_2.0.txt')\n",
    "    sou_list = list(ppi['source'].values)\n",
    "    tar_list = list(ppi['target'].values)\n",
    "    sou_index = []\n",
    "    for sou in sou_list:\n",
    "        for index,gene in enumerate(gene_index):\n",
    "            if sou==gene:\n",
    "                sou_index.extend([index])\n",
    "    tar_index = []\n",
    "    for tar in tar_list:\n",
    "        for index,gene in enumerate(gene_index):\n",
    "            if tar==gene:\n",
    "                tar_index.extend([index])\n",
    "    edge_list =[]\n",
    "    edge_list.append(sou_index)\n",
    "    edge_list.append(tar_index)\n",
    "    edge_index = torch.tensor(edge_list, dtype=torch.long)\n",
    "    print(edge_index.shape)\n",
    "    print(features.shape)\n",
    "    print(edge_index)\n",
    "    \n",
    "    go_network = pd.read_csv('../data/pan/string_850/go_2.0.tsv', sep='\\t', index_col=0, header=0)\n",
    "    go_graph = load_featured_graph(go_network,'go')\n",
    "    print(go_graph)\n",
    "\n",
    "    path_network = pd.read_csv('../data/pan/string_850/path_2.0.tsv', sep='\\t', index_col=0, header=0)\n",
    "    path_graph = load_featured_graph(path_network,'path')\n",
    "    print(path_graph)\n",
    "\n",
    "    data = Data(x=features,edge_index=edge_index,go_index=go_graph.edge_index,path_index=path_graph.edge_index)\n",
    "    return data"
   ]
  },
  {
   "cell_type": "code",
   "execution_count": null,
   "id": "620f22a0-c883-4841-a7cf-a0cef04fdbfa",
   "metadata": {},
   "outputs": [],
   "source": [
    "data1 = create_dataset()\n",
    "torch.save(data1, '../data/pan/string_850/mut_data_miRNA_sub_du_go_path_2.0.pkl')"
   ]
  },
  {
   "cell_type": "code",
   "execution_count": 7,
   "id": "e29131fd-51ee-43f8-b865-6e5b9f5f0b46",
   "metadata": {},
   "outputs": [],
   "source": [
    "#create models for obtaining positional embeddings\n",
    "model1 =  Node2Vec(data1.edge_index, embedding_dim=16, walk_length=80,\n",
    "                      context_size=5,  walks_per_node=10,\n",
    "                      num_negative_samples=1, p=1, q=1, sparse=True).to(device)\n",
    "loader1 = model1.loader(batch_size=128, shuffle=True)\n",
    "optimizer1 = torch.optim.SparseAdam(list(model1.parameters()), lr=0.0001)\n",
    "\n",
    "model2 =  Node2Vec(data1.go_index, embedding_dim=16, walk_length=80,\n",
    "                      context_size=5,  walks_per_node=10,\n",
    "                      num_negative_samples=1, p=1, q=1, num_nodes=10743, sparse=True).to(device)\n",
    "loader2 = model2.loader(batch_size=128, shuffle=True)\n",
    "optimizer2 = torch.optim.SparseAdam(list(model2.parameters()), lr=0.0001)\n",
    "\n",
    "model3 =  Node2Vec(data1.path_index, embedding_dim=16, walk_length=80,\n",
    "                      context_size=5,  walks_per_node=10,\n",
    "                      num_negative_samples=1, p=1, q=1, num_nodes=10743, sparse=True).to(device)\n",
    "loader3 = model3.loader(batch_size=128, shuffle=True)\n",
    "optimizer3 = torch.optim.SparseAdam(list(model3.parameters()), lr=0.0001)"
   ]
  },
  {
   "cell_type": "code",
   "execution_count": 8,
   "id": "187d14bd-f04f-4c4e-8a90-8f3f7123bef0",
   "metadata": {},
   "outputs": [],
   "source": [
    "def train(model,optimizer,loader):\n",
    "    model.train()\n",
    "    total_loss = 0\n",
    "    for pos_rw, neg_rw in loader:\n",
    "        optimizer.zero_grad()\n",
    "        loss = model.loss(pos_rw.to(device), neg_rw.to(device))\n",
    "        loss.backward()\n",
    "        optimizer.step()\n",
    "        total_loss += loss.item()\n",
    "    return total_loss / len(loader)"
   ]
  },
  {
   "cell_type": "code",
   "execution_count": null,
   "id": "f40e2da3-a8d8-4e88-b2ca-85d61cc26563",
   "metadata": {},
   "outputs": [],
   "source": [
    "#obtain PPI's positional embeddings\n",
    "for epoch in range(1, 1001):\n",
    "    loss = train(model1,optimizer1,loader1)\n",
    "\n",
    "model1.eval()\n",
    "str_features1 = model1()\n",
    "print(str_features1.shape)\n",
    "\n",
    "torch.save(str_features1, '../data/pan/string_850/mut_str_features_16_0.0001_2.0.pkl')"
   ]
  },
  {
   "cell_type": "code",
   "execution_count": null,
   "id": "d09760bd-1727-4acd-a1b4-04e71481055e",
   "metadata": {},
   "outputs": [],
   "source": [
    "#obtain gene semantic similarity network's positional embeddings\n",
    "for epoch in range(1, 1001):\n",
    "    loss = train(model2,optimizer2,loader2)\n",
    "\n",
    "model2.eval()\n",
    "str_features2 = model2()\n",
    "print(str_features2.shape)\n",
    "\n",
    "torch.save(str_features2, '../data/pan/string_850/mut_str_features_16_0.0001_go_2.0.pkl')"
   ]
  },
  {
   "cell_type": "code",
   "execution_count": null,
   "id": "0d0a9623-b609-4c44-a1f0-8c1716863b88",
   "metadata": {},
   "outputs": [],
   "source": [
    "#obtain gene pathway co-occurrence network's positional embeddings\n",
    "for epoch in range(1, 1001):\n",
    "    loss = train(model3,optimizer3,loader3)\n",
    "\n",
    "model3.eval()\n",
    "str_features3 = model3()\n",
    "print(str_features3.shape)\n",
    "\n",
    "torch.save(str_features3, '../data/pan/string_850/mut_str_features_16_0.0001_path_2.0.pkl')"
   ]
  }
 ],
 "metadata": {
  "kernelspec": {
   "display_name": "myapp",
   "language": "python",
   "name": "myapp"
  },
  "language_info": {
   "codemirror_mode": {
    "name": "ipython",
    "version": 3
   },
   "file_extension": ".py",
   "mimetype": "text/x-python",
   "name": "python",
   "nbconvert_exporter": "python",
   "pygments_lexer": "ipython3",
   "version": "3.8.19"
  }
 },
 "nbformat": 4,
 "nbformat_minor": 5
}
