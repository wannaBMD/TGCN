{
 "cells": [
  {
   "cell_type": "code",
   "execution_count": 1,
   "id": "6e0a9fe9-1c9b-41ee-b0db-605b3f99ec2d",
   "metadata": {},
   "outputs": [],
   "source": [
    "import os\n",
    "import numpy as np\n",
    "import pandas as pd\n",
    "import torch"
   ]
  },
  {
   "cell_type": "code",
   "execution_count": 2,
   "id": "83bd13d5-2b3e-4f62-b41d-1dcaa84d7ca4",
   "metadata": {},
   "outputs": [],
   "source": [
    "gene_features = pd.read_table('../data/pan/mut_features_miRNA_sub_du.txt', index_col=0, header =0, sep=\"\\t\")"
   ]
  },
  {
   "cell_type": "code",
   "execution_count": 3,
   "id": "f8bba6f6-95da-43be-b3c0-721c292dbd88",
   "metadata": {},
   "outputs": [],
   "source": [
    "#load PPI network\n",
    "def load_network(file_path):\n",
    "    ppi = pd.read_table(filepath_or_buffer=file_path, header=None, index_col=None, names=['source', 'target'], dtype='str', sep='\\t')\n",
    "    ppi_nodes = pd.concat([ppi['source'], ppi['target']], ignore_index=True)\n",
    "    ppi_nodes = pd.DataFrame(ppi_nodes, columns=['nodes']).drop_duplicates()\n",
    "    ppi_nodes.reset_index(drop=True, inplace=True)\n",
    "    return ppi,ppi_nodes\n",
    "\n",
    "#obtain genes that appear simultaneously in the gene set and PPI network\n",
    "def get_intersection_genes(g_lst, ppi_nodes):\n",
    "    p = ppi_nodes.iloc[:,0].values.tolist()\n",
    "    p_nodes = list(set(p))\n",
    "    print(len(p_nodes))\n",
    "    g_intersection = list(set(g_lst) & set(p_nodes))\n",
    "    return g_intersection\n",
    "\n",
    "#retain the interactions where both source and target nodes are present in the gene list\n",
    "def filter_ppi_with_intersect_nodes(nodes_lst,ppi_df):\n",
    "    g_lst_df=pd.DataFrame(nodes_lst,columns=['g1'])\n",
    "    m1=pd.merge(left=ppi_df,right=g_lst_df,left_on='source',right_on='g1',how='left')\n",
    "    m1.dropna(how='any',inplace=True)\n",
    "    m1.drop(['g1'],axis=1,inplace=True)\n",
    "\n",
    "    m2=pd.merge(left=m1,right=g_lst_df,left_on='target',right_on='g1',how='left')\n",
    "    m2.dropna(how='any',inplace=True)\n",
    "    m2.drop(['g1'],axis=1,inplace=True)\n",
    "    return m2\n",
    "\n",
    "#obtain biological features of the filtered genes\n",
    "def select_features(p_nodes):\n",
    "    g_lst = list(p_nodes.iloc[:,0].values)\n",
    "    print(len(g_lst))\n",
    "    gene_list = list(gene_features.index.values)\n",
    "    features = pd.DataFrame()\n",
    "    for gene1 in gene_list:\n",
    "        if gene1 in g_lst:\n",
    "            features = pd.concat([features,gene_features.loc[gene1,:]], axis=1)\n",
    "    features.index = [gene_features.columns]\n",
    "    features.T.to_csv(path_or_buf='../data/pan/string_850/mut_features_miRNA_sub_du_2.0.txt', sep='\\t', header=True,index=True)\n",
    "\n",
    "#filter gene and PPI\n",
    "def data_filter_mut():\n",
    "    ppi,ppi_nodes=load_network('../data/pan/string_850/STRING_850.txt')\n",
    "    print(ppi_nodes.shape)\n",
    "    mut_g_lst = list(gene_features.index.values)\n",
    "    print(len(mut_g_lst))\n",
    "    g_intersection = get_intersection_genes(mut_g_lst, ppi_nodes)\n",
    "    print(len(g_intersection))\n",
    "    ppi = filter_ppi_with_intersect_nodes(g_intersection,ppi)\n",
    "    ppi.to_csv(path_or_buf='../data/pan/string_850/mut_PPI_2.0.txt', sep='\\t', header=False,index=False)\n",
    "    p_nodes = pd.concat([ppi['source'], ppi['target']], ignore_index=True)\n",
    "    p_nodes = pd.DataFrame(p_nodes, columns=['nodes']).drop_duplicates()\n",
    "    p_nodes.reset_index(drop=True, inplace=True)\n",
    "    select_features(p_nodes)"
   ]
  },
  {
   "cell_type": "code",
   "execution_count": null,
   "id": "564db752-9b05-4f80-9e0d-3510f886d10a",
   "metadata": {},
   "outputs": [],
   "source": [
    "data_filter_mut()"
   ]
  }
 ],
 "metadata": {
  "kernelspec": {
   "display_name": "myapp",
   "language": "python",
   "name": "myapp"
  },
  "language_info": {
   "codemirror_mode": {
    "name": "ipython",
    "version": 3
   },
   "file_extension": ".py",
   "mimetype": "text/x-python",
   "name": "python",
   "nbconvert_exporter": "python",
   "pygments_lexer": "ipython3",
   "version": "3.8.19"
  }
 },
 "nbformat": 4,
 "nbformat_minor": 5
}
