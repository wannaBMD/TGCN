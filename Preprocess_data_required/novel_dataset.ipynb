{
 "cells": [
  {
   "cell_type": "code",
   "execution_count": 1,
   "id": "7c2dc5a5-8b4c-482e-8f08-3eeb9c0e8877",
   "metadata": {},
   "outputs": [],
   "source": [
    "import numpy as np\n",
    "import pandas as pd\n",
    "import pickle\n",
    "import torch\n",
    "import random\n",
    "from torch_geometric.data import Data"
   ]
  },
  {
   "cell_type": "code",
   "execution_count": 3,
   "id": "1a3174b7-06ea-4981-b1af-18b8d43d171b",
   "metadata": {},
   "outputs": [],
   "source": [
    "#select unkown genes which are not positive samples either negative samples\n",
    "df1 = pd.read_table('../data/pan/string_850/mut_features_miRNA_sub_du_2.0.txt', index_col=0, header =0, sep=\"\\t\")\n",
    "gene_index = list(df1.index.values)\n",
    "df2 = pd.read_table('../data/796true.txt', header=None, index_col=None, names=['name'], dtype='str')\n",
    "df3 = pd.read_table('../data/2187false.txt', header=None, index_col=None, names=['name'], dtype='str')\n",
    "\n",
    "driver_index = []\n",
    "normal_index = []\n",
    "unkown_index = []\n",
    "unkown_gene_name = []\n",
    "for index,gene in enumerate(gene_index):\n",
    "    flag = 0\n",
    "    for driver in list(df2['name'].values):\n",
    "        if gene==driver:\n",
    "            driver_index.append(index)\n",
    "            flag = 1\n",
    "    for normal in list(df3['name'].values):\n",
    "        if gene==normal:\n",
    "            normal_index.append(index)\n",
    "            flag = 1\n",
    "    if flag==0:\n",
    "        unkown_index.append(index)\n",
    "        unkown_gene_name.append(gene)\n",
    "\n",
    "unkown_gene = pd.DataFrame(unkown_gene_name)\n",
    "unkown_gene.to_csv(path_or_buf='../data/pan/string_850/novel_gene_2.0.txt', sep='\\t', header=False,index=False)"
   ]
  },
  {
   "cell_type": "code",
   "execution_count": 4,
   "id": "bbdf7e79-c6e2-4fbe-80d1-3428bd1eb3ac",
   "metadata": {},
   "outputs": [],
   "source": [
    "#divide the train set and test set for predicting novel potential cancer driver genes\n",
    "def create_k_sets():\n",
    "    data = pd.read_table(\"../data/pan/string_850/mut_features_miRNA_sub_du_2.0.txt\", index_col=0, header =0, sep=\"\\t\")\n",
    "    length = len(data.values)\n",
    "    index_array = np.arange(0,length,1)\n",
    "    tr_list = [False]*length\n",
    "    for suoyin1 in driver_index:\n",
    "        tr_list[suoyin1] = True\n",
    "    for suoyin2 in normal_index:\n",
    "        tr_list[suoyin2] = True\n",
    "        \n",
    "    te_list = [False]*length\n",
    "    for suoyin4 in unkown_index:\n",
    "        te_list[suoyin4] = True\n",
    "            \n",
    "    inputs = []\n",
    "    inputs.append(tr_list)\n",
    "    inputs.append(te_list)\n",
    "    k_sets = np.array(inputs)\n",
    "    print(k_sets.shape)\n",
    "    with open('../data/pan/string_850/k_sets_novel_2.0.pkl', 'wb') as f:\n",
    "        pickle.dump(k_sets, f)\n",
    "        \n",
    "create_k_sets()"
   ]
  }
 ],
 "metadata": {
  "kernelspec": {
   "display_name": "myapp",
   "language": "python",
   "name": "myapp"
  },
  "language_info": {
   "codemirror_mode": {
    "name": "ipython",
    "version": 3
   },
   "file_extension": ".py",
   "mimetype": "text/x-python",
   "name": "python",
   "nbconvert_exporter": "python",
   "pygments_lexer": "ipython3",
   "version": "3.8.19"
  }
 },
 "nbformat": 4,
 "nbformat_minor": 5
}
